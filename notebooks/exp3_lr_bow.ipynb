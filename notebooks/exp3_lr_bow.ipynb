{
 "cells": [
  {
   "cell_type": "code",
   "execution_count": 1,
   "id": "e5f6c398",
   "metadata": {},
   "outputs": [
    {
     "name": "stdout",
     "output_type": "stream",
     "text": [
      "/home/ayush/Documents/AI/Projects/Mlops-Capstone-Project\n"
     ]
    },
    {
     "name": "stderr",
     "output_type": "stream",
     "text": [
      "/home/ayush/Documents/AI/Projects/Mlops-Capstone-Project/.venv/lib/python3.10/site-packages/IPython/core/magics/osm.py:417: UserWarning: This is now an optional IPython functionality, setting dhist requires you to install the `pickleshare` library.\n",
      "  self.shell.db['dhist'] = compress_dhist(dhist)[-100:]\n"
     ]
    }
   ],
   "source": [
    "cd .."
   ]
  },
  {
   "cell_type": "code",
   "execution_count": 2,
   "id": "c625a66f",
   "metadata": {},
   "outputs": [],
   "source": [
    "import pandas as pd\n",
    "pd.set_option('future.no_silent_downcasting', True)\n",
    "import logging\n",
    "\n",
    "import numpy as np\n",
    "import mlflow\n",
    "import dagshub\n",
    "from sklearn.feature_extraction.text import CountVectorizer, TfidfVectorizer\n",
    "from sklearn.model_selection import train_test_split,GridSearchCV\n",
    "from sklearn.linear_model import LogisticRegression\n",
    "from sklearn.naive_bayes import MultinomialNB\n",
    "from xgboost import XGBClassifier\n",
    "from sklearn.ensemble import RandomForestClassifier, GradientBoostingClassifier\n",
    "from sklearn.metrics import accuracy_score, precision_score, recall_score, f1_score\n",
    "from text_prettifier import TextPrettifier\n",
    "import joblib\n",
    "\n",
    "import warnings\n",
    "warnings.simplefilter(\"ignore\", UserWarning)\n",
    "warnings.filterwarnings(\"ignore\")"
   ]
  },
  {
   "cell_type": "code",
   "execution_count": 3,
   "id": "9dca29e1",
   "metadata": {},
   "outputs": [],
   "source": [
    "logging.basicConfig(level=logging.INFO,format=\"%(asctime)s - %(levelname)s -  %(message)s\")\n",
    "config={\n",
    "    'data_path':'notebooks/IMDB.csv',\n",
    "    'test_size':0.2\n",
    "    \n",
    "}"
   ]
  },
  {
   "cell_type": "code",
   "execution_count": 4,
   "id": "065ca425",
   "metadata": {},
   "outputs": [],
   "source": [
    "prettifier = TextPrettifier()\n",
    "\n",
    "def text_cleaner(text):\n",
    "    text = text.lower()\n",
    "    text = prettifier.remove_contractions(text)\n",
    "    text = prettifier.remove_emojis(text)\n",
    "    text = prettifier.remove_html_tags(text)\n",
    "    text = prettifier.remove_urls(text)\n",
    "    text = prettifier.remove_special_chars(text)\n",
    "    text = prettifier.remove_stopwords(text)\n",
    "    text = prettifier.remove_numbers(text)\n",
    "    return text"
   ]
  },
  {
   "cell_type": "code",
   "execution_count": 5,
   "id": "8409abc2",
   "metadata": {},
   "outputs": [],
   "source": [
    "def load_and_transformation(filepath:str):\n",
    "    try:\n",
    "        logging.info(\"loaded the file\")\n",
    "        df = pd.read_csv(filepath)\n",
    "        logging.info(\"cleaning the reviews in data\")\n",
    "        df['review'] = df['review'].apply(text_cleaner)\n",
    "        logging.info(\"mapping sentiment to 1 and 0\")\n",
    "        df['sentiment'] = df['sentiment'].map({'negative':0,'positive':1})\n",
    "        return df\n",
    "    except Exception as e:\n",
    "        logging.info(f'Error while transformaing the df {e}')"
   ]
  },
  {
   "cell_type": "code",
   "execution_count": 6,
   "id": "060bdf43",
   "metadata": {},
   "outputs": [
    {
     "name": "stderr",
     "output_type": "stream",
     "text": [
      "2025-07-09 08:31:35,738 - INFO -  loaded the file\n",
      "2025-07-09 08:31:35,790 - INFO -  cleaning the reviews in data\n",
      "2025-07-09 08:31:37,508 - INFO -  mapping sentiment to 1 and 0\n"
     ]
    }
   ],
   "source": [
    "df = load_and_transformation(config['data_path'])"
   ]
  },
  {
   "cell_type": "code",
   "execution_count": 7,
   "id": "5848bad1",
   "metadata": {},
   "outputs": [
    {
     "name": "stderr",
     "output_type": "stream",
     "text": [
      "2025-07-09 08:31:38,285 - INFO -  HTTP Request: GET https://dagshub.com/api/v1/user \"HTTP/1.1 200 OK\"\n"
     ]
    },
    {
     "data": {
      "text/html": [
       "<pre style=\"white-space:pre;overflow-x:auto;line-height:normal;font-family:Menlo,'DejaVu Sans Mono',consolas,'Courier New',monospace\">Accessing as AyushAI14\n",
       "</pre>\n"
      ],
      "text/plain": [
       "Accessing as AyushAI14\n"
      ]
     },
     "metadata": {},
     "output_type": "display_data"
    },
    {
     "name": "stderr",
     "output_type": "stream",
     "text": [
      "2025-07-09 08:31:38,304 - INFO -  Accessing as AyushAI14\n",
      "2025-07-09 08:31:38,794 - INFO -  HTTP Request: GET https://dagshub.com/api/v1/repos/AyushAI14/Mlops-Capstone-Project \"HTTP/1.1 200 OK\"\n",
      "2025-07-09 08:31:39,204 - INFO -  HTTP Request: GET https://dagshub.com/api/v1/user \"HTTP/1.1 200 OK\"\n"
     ]
    },
    {
     "data": {
      "text/html": [
       "<pre style=\"white-space:pre;overflow-x:auto;line-height:normal;font-family:Menlo,'DejaVu Sans Mono',consolas,'Courier New',monospace\">Initialized MLflow to track repo <span style=\"color: #008000; text-decoration-color: #008000\">\"AyushAI14/Mlops-Capstone-Project\"</span>\n",
       "</pre>\n"
      ],
      "text/plain": [
       "Initialized MLflow to track repo \u001b[32m\"AyushAI14/Mlops-Capstone-Project\"\u001b[0m\n"
      ]
     },
     "metadata": {},
     "output_type": "display_data"
    },
    {
     "name": "stderr",
     "output_type": "stream",
     "text": [
      "2025-07-09 08:31:39,212 - INFO -  Initialized MLflow to track repo \"AyushAI14/Mlops-Capstone-Project\"\n"
     ]
    },
    {
     "data": {
      "text/html": [
       "<pre style=\"white-space:pre;overflow-x:auto;line-height:normal;font-family:Menlo,'DejaVu Sans Mono',consolas,'Courier New',monospace\">Repository AyushAI14/Mlops-Capstone-Project initialized!\n",
       "</pre>\n"
      ],
      "text/plain": [
       "Repository AyushAI14/Mlops-Capstone-Project initialized!\n"
      ]
     },
     "metadata": {},
     "output_type": "display_data"
    },
    {
     "name": "stderr",
     "output_type": "stream",
     "text": [
      "2025-07-09 08:31:39,218 - INFO -  Repository AyushAI14/Mlops-Capstone-Project initialized!\n"
     ]
    },
    {
     "data": {
      "text/plain": [
       "<Experiment: artifact_location='mlflow-artifacts:/7f7ad6d22db247f4b3a77af166ca5d13', creation_time=1752028144180, experiment_id='2', last_update_time=1752028144180, lifecycle_stage='active', name='lr and bow', tags={}>"
      ]
     },
     "execution_count": 7,
     "metadata": {},
     "output_type": "execute_result"
    }
   ],
   "source": [
    "mlflow.set_tracking_uri('https://dagshub.com/AyushAI14/Mlops-Capstone-Project.mlflow')\n",
    "dagshub.init(repo_owner='AyushAI14', repo_name='Mlops-Capstone-Project', mlflow=True)\n",
    "\n",
    "mlflow.set_experiment('lr and bow')\n"
   ]
  },
  {
   "cell_type": "code",
   "execution_count": 8,
   "id": "bb2008b0",
   "metadata": {},
   "outputs": [],
   "source": [
    "VECTORIZERS = {\n",
    "    'BoW': CountVectorizer()\n",
    "}\n",
    "\n",
    "ALGORITHMS = {\n",
    "    'LogisticRegression': LogisticRegression()\n",
    "}"
   ]
  },
  {
   "cell_type": "code",
   "execution_count": 9,
   "id": "faa35475",
   "metadata": {},
   "outputs": [],
   "source": [
    "x =VECTORIZERS['BoW'].fit_transform(df['review'])\n",
    "\n",
    "y = df['sentiment']\n",
    "x_train,x_test,y_train,y_test=train_test_split(x,y,test_size=config[\"test_size\"],random_state=44)"
   ]
  },
  {
   "cell_type": "code",
   "execution_count": 10,
   "id": "c515050b",
   "metadata": {},
   "outputs": [],
   "source": [
    "def train_and_log_model(X_train, X_test, y_train, y_test,):\n",
    "    \"\"\"Trains a Logistic Regression model with GridSearch and logs results to MLflow.\"\"\"\n",
    "    \n",
    "    param_grid = {\n",
    "        \"C\": [0.1, 1, 10],\n",
    "        \"penalty\": [\"l1\", \"l2\"],\n",
    "        \"solver\": [\"liblinear\"]\n",
    "    }\n",
    "    \n",
    "    with mlflow.start_run():\n",
    "        grid_search = GridSearchCV(LogisticRegression(), param_grid, cv=5, scoring=\"f1\", n_jobs=-1)\n",
    "        grid_search.fit(X_train, y_train)\n",
    "\n",
    "        # Log all hyperparameter tuning runs\n",
    "        for params, mean_score, std_score in zip(grid_search.cv_results_[\"params\"], \n",
    "                                                 grid_search.cv_results_[\"mean_test_score\"], \n",
    "                                                 grid_search.cv_results_[\"std_test_score\"]):\n",
    "            with mlflow.start_run(run_name=f\"LR with params: {params}\", nested=True):\n",
    "                model = LogisticRegression(**params)\n",
    "                model.fit(X_train, y_train)\n",
    "                \n",
    "                y_pred = model.predict(X_test)\n",
    "                \n",
    "                metrics = {\n",
    "                    \"accuracy\": accuracy_score(y_test, y_pred),\n",
    "                    \"precision\": precision_score(y_test, y_pred),\n",
    "                    \"recall\": recall_score(y_test, y_pred),\n",
    "                    \"f1_score\": f1_score(y_test, y_pred),\n",
    "                    \"mean_cv_score\": mean_score,\n",
    "                    \"std_cv_score\": std_score\n",
    "                }\n",
    "                \n",
    "                # Log parameters & metrics\n",
    "                mlflow.log_params(params)\n",
    "                mlflow.log_metrics(metrics)\n",
    "                \n",
    "                print(f\"Params: {params} | Accuracy: {metrics['accuracy']:.4f} | F1: {metrics['f1_score']:.4f}\")\n",
    "\n",
    "        # Log the best model\n",
    "        best_params = grid_search.best_params_\n",
    "        best_model = grid_search.best_estimator_\n",
    "        best_f1 = grid_search.best_score_\n",
    "\n",
    "        mlflow.log_params(best_params)\n",
    "        mlflow.log_metric(\"best_f1_score\", best_f1)\n",
    "        logging.info(\"Saving and logging the model...\")\n",
    "        joblib.dump(best_model,\"models/model3.pkl\")\n",
    "        mlflow.log_artifact(\"models/model3.pkl\")\n",
    "        \n",
    "        print(f\"\\nBest Params: {best_params} | Best F1 Score: {best_f1:.4f}\")\n"
   ]
  },
  {
   "cell_type": "code",
   "execution_count": 11,
   "id": "414502db",
   "metadata": {},
   "outputs": [
    {
     "name": "stdout",
     "output_type": "stream",
     "text": [
      "Params: {'C': 0.1, 'penalty': 'l1', 'solver': 'liblinear'} | Accuracy: 0.7250 | F1: 0.7027\n",
      "🏃 View run LR with params: {'C': 0.1, 'penalty': 'l1', 'solver': 'liblinear'} at: https://dagshub.com/AyushAI14/Mlops-Capstone-Project.mlflow/#/experiments/2/runs/13287ed31e9f4d829ed75c257b627381\n",
      "🧪 View experiment at: https://dagshub.com/AyushAI14/Mlops-Capstone-Project.mlflow/#/experiments/2\n",
      "Params: {'C': 0.1, 'penalty': 'l2', 'solver': 'liblinear'} | Accuracy: 0.7750 | F1: 0.7486\n",
      "🏃 View run LR with params: {'C': 0.1, 'penalty': 'l2', 'solver': 'liblinear'} at: https://dagshub.com/AyushAI14/Mlops-Capstone-Project.mlflow/#/experiments/2/runs/dcc3e89ab8c042a6a099c0e030b844e5\n",
      "🧪 View experiment at: https://dagshub.com/AyushAI14/Mlops-Capstone-Project.mlflow/#/experiments/2\n",
      "Params: {'C': 1, 'penalty': 'l1', 'solver': 'liblinear'} | Accuracy: 0.7450 | F1: 0.7273\n",
      "🏃 View run LR with params: {'C': 1, 'penalty': 'l1', 'solver': 'liblinear'} at: https://dagshub.com/AyushAI14/Mlops-Capstone-Project.mlflow/#/experiments/2/runs/77bdb48c378e462bb28c6a782ea9d251\n",
      "🧪 View experiment at: https://dagshub.com/AyushAI14/Mlops-Capstone-Project.mlflow/#/experiments/2\n",
      "Params: {'C': 1, 'penalty': 'l2', 'solver': 'liblinear'} | Accuracy: 0.7750 | F1: 0.7458\n",
      "🏃 View run LR with params: {'C': 1, 'penalty': 'l2', 'solver': 'liblinear'} at: https://dagshub.com/AyushAI14/Mlops-Capstone-Project.mlflow/#/experiments/2/runs/ab9ad32511eb4cd3b953aa34454e546b\n",
      "🧪 View experiment at: https://dagshub.com/AyushAI14/Mlops-Capstone-Project.mlflow/#/experiments/2\n",
      "Params: {'C': 10, 'penalty': 'l1', 'solver': 'liblinear'} | Accuracy: 0.7400 | F1: 0.7204\n",
      "🏃 View run LR with params: {'C': 10, 'penalty': 'l1', 'solver': 'liblinear'} at: https://dagshub.com/AyushAI14/Mlops-Capstone-Project.mlflow/#/experiments/2/runs/b46b73399f42437cb35f7cc64d69b053\n",
      "🧪 View experiment at: https://dagshub.com/AyushAI14/Mlops-Capstone-Project.mlflow/#/experiments/2\n",
      "Params: {'C': 10, 'penalty': 'l2', 'solver': 'liblinear'} | Accuracy: 0.7700 | F1: 0.7416\n",
      "🏃 View run LR with params: {'C': 10, 'penalty': 'l2', 'solver': 'liblinear'} at: https://dagshub.com/AyushAI14/Mlops-Capstone-Project.mlflow/#/experiments/2/runs/6f47304e48c64ec4bcb35ccb07025cd5\n",
      "🧪 View experiment at: https://dagshub.com/AyushAI14/Mlops-Capstone-Project.mlflow/#/experiments/2\n"
     ]
    },
    {
     "name": "stderr",
     "output_type": "stream",
     "text": [
      "2025-07-09 08:32:24,877 - INFO -  Saving and logging the model...\n"
     ]
    },
    {
     "name": "stdout",
     "output_type": "stream",
     "text": [
      "\n",
      "Best Params: {'C': 0.1, 'penalty': 'l2', 'solver': 'liblinear'} | Best F1 Score: 0.7969\n",
      "🏃 View run respected-turtle-194 at: https://dagshub.com/AyushAI14/Mlops-Capstone-Project.mlflow/#/experiments/2/runs/e9605785a8f746068d4c1cab3963dfad\n",
      "🧪 View experiment at: https://dagshub.com/AyushAI14/Mlops-Capstone-Project.mlflow/#/experiments/2\n"
     ]
    }
   ],
   "source": [
    "train_and_log_model(x_train,x_test,y_train,y_test)"
   ]
  },
  {
   "cell_type": "code",
   "execution_count": null,
   "id": "c7d12a48",
   "metadata": {},
   "outputs": [],
   "source": []
  }
 ],
 "metadata": {
  "kernelspec": {
   "display_name": ".venv",
   "language": "python",
   "name": "python3"
  },
  "language_info": {
   "codemirror_mode": {
    "name": "ipython",
    "version": 3
   },
   "file_extension": ".py",
   "mimetype": "text/x-python",
   "name": "python",
   "nbconvert_exporter": "python",
   "pygments_lexer": "ipython3",
   "version": "3.10.18"
  }
 },
 "nbformat": 4,
 "nbformat_minor": 5
}

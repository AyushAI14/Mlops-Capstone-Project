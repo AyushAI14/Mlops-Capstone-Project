{
 "cells": [
  {
   "cell_type": "code",
   "execution_count": null,
   "id": "accb5cae",
   "metadata": {},
   "outputs": [],
   "source": [
    "cd .."
   ]
  },
  {
   "cell_type": "code",
   "execution_count": 53,
   "id": "3fe6826f",
   "metadata": {},
   "outputs": [],
   "source": [
    "import mlflow\n",
    "import pandas as pd\n",
    "import mlflow.sklearn\n",
    "from sklearn.feature_extraction.text import CountVectorizer\n",
    "from sklearn.model_selection import train_test_split\n",
    "from sklearn.linear_model import LogisticRegression\n",
    "from sklearn.metrics import accuracy_score, precision_score, recall_score, f1_score\n",
    "import pandas as pd\n",
    "import numpy as np\n",
    "from text_prettifier import TextPrettifier"
   ]
  },
  {
   "cell_type": "code",
   "execution_count": null,
   "id": "9823bc45",
   "metadata": {},
   "outputs": [],
   "source": []
  },
  {
   "cell_type": "code",
   "execution_count": null,
   "id": "5291f9e4",
   "metadata": {},
   "outputs": [
    {
     "data": {
      "text/plain": [
       "(1000, 2)"
      ]
     },
     "execution_count": 54,
     "metadata": {},
     "output_type": "execute_result"
    }
   ],
   "source": [
    "df = pd.read_csv('notebooks/IMDB.csv')\n",
    "df.shape"
   ]
  },
  {
   "cell_type": "code",
   "execution_count": 55,
   "id": "5d7b4210",
   "metadata": {},
   "outputs": [],
   "source": [
    "# text filteration\n",
    "\n",
    "prettifier = TextPrettifier()\n",
    "\n",
    "def text_cleaner(text):\n",
    "    text = text.lower()\n",
    "    text = prettifier.remove_contractions(text)\n",
    "    text = prettifier.remove_emojis(text)\n",
    "    text = prettifier.remove_html_tags(text)\n",
    "    text = prettifier.remove_urls(text)\n",
    "    text = prettifier.remove_special_chars(text)\n",
    "    text = prettifier.remove_stopwords(text)\n",
    "    text = prettifier.remove_numbers(text)\n",
    "    return text"
   ]
  },
  {
   "cell_type": "code",
   "execution_count": 56,
   "id": "56613cb4",
   "metadata": {},
   "outputs": [],
   "source": [
    "df['review'] = df['review'].apply(text_cleaner)"
   ]
  },
  {
   "cell_type": "code",
   "execution_count": 57,
   "id": "f952ee96",
   "metadata": {},
   "outputs": [
    {
     "data": {
      "text/plain": [
       "sentiment\n",
       "negative    517\n",
       "positive    483\n",
       "Name: count, dtype: int64"
      ]
     },
     "execution_count": 57,
     "metadata": {},
     "output_type": "execute_result"
    }
   ],
   "source": [
    "df['sentiment'].value_counts()"
   ]
  },
  {
   "cell_type": "code",
   "execution_count": 58,
   "id": "d3aa8bd4",
   "metadata": {},
   "outputs": [],
   "source": [
    "df['sentiment'] = df['sentiment'].map({'negative':0,'positive':1})"
   ]
  },
  {
   "cell_type": "code",
   "execution_count": 59,
   "id": "1c9c3bfb",
   "metadata": {},
   "outputs": [
    {
     "data": {
      "text/html": [
       "<div>\n",
       "<style scoped>\n",
       "    .dataframe tbody tr th:only-of-type {\n",
       "        vertical-align: middle;\n",
       "    }\n",
       "\n",
       "    .dataframe tbody tr th {\n",
       "        vertical-align: top;\n",
       "    }\n",
       "\n",
       "    .dataframe thead th {\n",
       "        text-align: right;\n",
       "    }\n",
       "</style>\n",
       "<table border=\"1\" class=\"dataframe\">\n",
       "  <thead>\n",
       "    <tr style=\"text-align: right;\">\n",
       "      <th></th>\n",
       "      <th>review</th>\n",
       "      <th>sentiment</th>\n",
       "    </tr>\n",
       "  </thead>\n",
       "  <tbody>\n",
       "    <tr>\n",
       "      <th>0</th>\n",
       "      <td>film version sandra bernhards onewoman offbroa...</td>\n",
       "      <td>0</td>\n",
       "    </tr>\n",
       "    <tr>\n",
       "      <th>1</th>\n",
       "      <td>switched cable whim treated quite surprisealth...</td>\n",
       "      <td>1</td>\n",
       "    </tr>\n",
       "    <tr>\n",
       "      <th>2</th>\n",
       "      <td>plot film contains holes could drive massive t...</td>\n",
       "      <td>0</td>\n",
       "    </tr>\n",
       "    <tr>\n",
       "      <th>3</th>\n",
       "      <td>amusing humor falls flat decent acting quite a...</td>\n",
       "      <td>0</td>\n",
       "    </tr>\n",
       "    <tr>\n",
       "      <th>4</th>\n",
       "      <td>say movie terrible good two days earlier watch...</td>\n",
       "      <td>0</td>\n",
       "    </tr>\n",
       "    <tr>\n",
       "      <th>...</th>\n",
       "      <td>...</td>\n",
       "      <td>...</td>\n",
       "    </tr>\n",
       "    <tr>\n",
       "      <th>995</th>\n",
       "      <td>exactly new story line romantic comedy makes c...</td>\n",
       "      <td>0</td>\n",
       "    </tr>\n",
       "    <tr>\n",
       "      <th>996</th>\n",
       "      <td>first saw movie younger child sister told thou...</td>\n",
       "      <td>1</td>\n",
       "    </tr>\n",
       "    <tr>\n",
       "      <th>997</th>\n",
       "      <td>people stated th season south park started tre...</td>\n",
       "      <td>1</td>\n",
       "    </tr>\n",
       "    <tr>\n",
       "      <th>998</th>\n",
       "      <td>nothing directors juvenile fantasy come life m...</td>\n",
       "      <td>0</td>\n",
       "    </tr>\n",
       "    <tr>\n",
       "      <th>999</th>\n",
       "      <td>spoiler alert throughout australia summer turn...</td>\n",
       "      <td>1</td>\n",
       "    </tr>\n",
       "  </tbody>\n",
       "</table>\n",
       "<p>1000 rows × 2 columns</p>\n",
       "</div>"
      ],
      "text/plain": [
       "                                                review  sentiment\n",
       "0    film version sandra bernhards onewoman offbroa...          0\n",
       "1    switched cable whim treated quite surprisealth...          1\n",
       "2    plot film contains holes could drive massive t...          0\n",
       "3    amusing humor falls flat decent acting quite a...          0\n",
       "4    say movie terrible good two days earlier watch...          0\n",
       "..                                                 ...        ...\n",
       "995  exactly new story line romantic comedy makes c...          0\n",
       "996  first saw movie younger child sister told thou...          1\n",
       "997  people stated th season south park started tre...          1\n",
       "998  nothing directors juvenile fantasy come life m...          0\n",
       "999  spoiler alert throughout australia summer turn...          1\n",
       "\n",
       "[1000 rows x 2 columns]"
      ]
     },
     "execution_count": 59,
     "metadata": {},
     "output_type": "execute_result"
    }
   ],
   "source": [
    "df"
   ]
  },
  {
   "cell_type": "code",
   "execution_count": 60,
   "id": "cc26771f",
   "metadata": {},
   "outputs": [],
   "source": [
    "vectorizer=CountVectorizer(max_features=60)\n",
    "x = vectorizer.fit_transform(df['review'])\n",
    "y = df['sentiment']\n"
   ]
  },
  {
   "cell_type": "code",
   "execution_count": 61,
   "id": "0eda4971",
   "metadata": {},
   "outputs": [],
   "source": [
    "x_train,x_test,y_train,y_test=train_test_split(x,y,test_size=0.25,random_state=44)"
   ]
  },
  {
   "cell_type": "code",
   "execution_count": 62,
   "id": "bc8703ae",
   "metadata": {},
   "outputs": [
    {
     "data": {
      "text/plain": [
       "(750, 60)"
      ]
     },
     "execution_count": 62,
     "metadata": {},
     "output_type": "execute_result"
    }
   ],
   "source": [
    "x_train.shape"
   ]
  },
  {
   "cell_type": "code",
   "execution_count": 63,
   "id": "f5d5a3ac",
   "metadata": {},
   "outputs": [
    {
     "data": {
      "text/plain": [
       "(250, 60)"
      ]
     },
     "execution_count": 63,
     "metadata": {},
     "output_type": "execute_result"
    }
   ],
   "source": [
    "x_test.shape"
   ]
  },
  {
   "cell_type": "code",
   "execution_count": 64,
   "id": "35767e00",
   "metadata": {},
   "outputs": [
    {
     "name": "stderr",
     "output_type": "stream",
     "text": [
      "2025-07-09 06:56:24,271 - INFO -  HTTP Request: GET https://dagshub.com/api/v1/repos/AyushAI14/Mlops-Capstone-Project \"HTTP/1.1 200 OK\"\n"
     ]
    },
    {
     "data": {
      "text/html": [
       "<pre style=\"white-space:pre;overflow-x:auto;line-height:normal;font-family:Menlo,'DejaVu Sans Mono',consolas,'Courier New',monospace\">Initialized MLflow to track repo <span style=\"color: #008000; text-decoration-color: #008000\">\"AyushAI14/Mlops-Capstone-Project\"</span>\n",
       "</pre>\n"
      ],
      "text/plain": [
       "Initialized MLflow to track repo \u001b[32m\"AyushAI14/Mlops-Capstone-Project\"\u001b[0m\n"
      ]
     },
     "metadata": {},
     "output_type": "display_data"
    },
    {
     "name": "stderr",
     "output_type": "stream",
     "text": [
      "2025-07-09 06:56:24,279 - INFO -  Initialized MLflow to track repo \"AyushAI14/Mlops-Capstone-Project\"\n"
     ]
    },
    {
     "data": {
      "text/html": [
       "<pre style=\"white-space:pre;overflow-x:auto;line-height:normal;font-family:Menlo,'DejaVu Sans Mono',consolas,'Courier New',monospace\">Repository AyushAI14/Mlops-Capstone-Project initialized!\n",
       "</pre>\n"
      ],
      "text/plain": [
       "Repository AyushAI14/Mlops-Capstone-Project initialized!\n"
      ]
     },
     "metadata": {},
     "output_type": "display_data"
    },
    {
     "name": "stderr",
     "output_type": "stream",
     "text": [
      "2025-07-09 06:56:24,282 - INFO -  Repository AyushAI14/Mlops-Capstone-Project initialized!\n"
     ]
    },
    {
     "data": {
      "text/plain": [
       "<Experiment: artifact_location='mlflow-artifacts:/45eadf9e1d694dc096a7e2102c9a47da', creation_time=1751986946865, experiment_id='0', last_update_time=1751986946865, lifecycle_stage='active', name='LR Baseline', tags={}>"
      ]
     },
     "execution_count": 64,
     "metadata": {},
     "output_type": "execute_result"
    }
   ],
   "source": [
    "import dagshub\n",
    "mlflow.set_tracking_uri('https://dagshub.com/AyushAI14/Mlops-Capstone-Project.mlflow')\n",
    "dagshub.init(repo_owner='AyushAI14', repo_name='Mlops-Capstone-Project', mlflow=True)\n",
    "\n",
    "mlflow.set_experiment('LR Baseline')\n"
   ]
  },
  {
   "cell_type": "code",
   "execution_count": null,
   "id": "8d66e3cb",
   "metadata": {},
   "outputs": [],
   "source": []
  },
  {
   "cell_type": "code",
   "execution_count": null,
   "id": "e5067acb",
   "metadata": {},
   "outputs": [
    {
     "name": "stderr",
     "output_type": "stream",
     "text": [
      "2025-07-09 06:56:25,191 - INFO -  Processing parameter\n",
      "2025-07-09 06:56:26,422 - INFO -  Model training starts\n",
      "2025-07-09 06:56:26,424 - INFO -  Model starts fitting\n",
      "2025-07-09 06:56:26,460 - INFO -  Model training complete.\n",
      "2025-07-09 06:56:26,463 - INFO -  Logging model parameters...\n",
      "2025-07-09 06:56:26,830 - INFO -  Making predictions...\n",
      "2025-07-09 06:56:26,834 - INFO -  Calculating evaluation metrics...\n",
      "2025-07-09 06:56:26,880 - INFO -  Logging evaluation metrics...\n",
      "2025-07-09 06:56:32,665 - INFO -  Saving and logging the model...\n",
      "2025-07-09 06:56:33,997 - INFO -  Model training and logging completed in 8.81 seconds.\n",
      "2025-07-09 06:56:33,998 - INFO -  Accuracy: 0.664\n",
      "2025-07-09 06:56:34,005 - INFO -  Precision: 0.6333333333333333\n",
      "2025-07-09 06:56:34,009 - INFO -  Recall: 0.6551724137931034\n",
      "2025-07-09 06:56:34,012 - INFO -  F1 Score: 0.6440677966101694\n"
     ]
    },
    {
     "name": "stdout",
     "output_type": "stream",
     "text": [
      "🏃 View run casual-loon-832 at: https://dagshub.com/AyushAI14/Mlops-Capstone-Project.mlflow/#/experiments/0/runs/edde4845cbbf4ca0a272ab3d83b4dba2\n",
      "🧪 View experiment at: https://dagshub.com/AyushAI14/Mlops-Capstone-Project.mlflow/#/experiments/0\n"
     ]
    }
   ],
   "source": [
    "import time \n",
    "import logging\n",
    "import joblib\n",
    "logging.basicConfig(level=logging.INFO,format=\"%(asctime)s - %(levelname)s -  %(message)s\")\n",
    "\n",
    "with mlflow.start_run():\n",
    "    try:\n",
    "        start_time = time.time()\n",
    "        logging.info(\"Processing parameter\")\n",
    "        mlflow.log_param(\"Vectorizer\",\"Bag of words\")\n",
    "        mlflow.log_param(\"Max_Feature\",60)\n",
    "        mlflow.log_param(\"test_size\",0.25)\n",
    "\n",
    "\n",
    "        logging.info(\"Model training starts\")\n",
    "        model = LogisticRegression(max_iter=1000)\n",
    "        logging.info(\"Model starts fitting\")\n",
    "        model.fit(x_train,y_train)\n",
    "        logging.info(\"Model training complete.\")\n",
    "\n",
    "        logging.info(\"Logging model parameters...\")\n",
    "        mlflow.log_param(\"model\", \"Logistic Regression\")\n",
    "\n",
    "        logging.info(\"Making predictions...\")\n",
    "        y_pred = model.predict(x_test)\n",
    "\n",
    "        logging.info(\"Calculating evaluation metrics...\")\n",
    "        accuracy = accuracy_score(y_test, y_pred)\n",
    "        precision = precision_score(y_test, y_pred)\n",
    "        recall = recall_score(y_test, y_pred)\n",
    "        f1 = f1_score(y_test, y_pred)\n",
    "        \n",
    "        logging.info(\"Logging evaluation metrics...\")\n",
    "\n",
    "        mlflow.log_metric(\"accuracy\", accuracy)\n",
    "        mlflow.log_metric(\"precision\", precision)\n",
    "        mlflow.log_metric(\"recall\", recall)\n",
    "        mlflow.log_metric(\"f1_score\", f1)\n",
    "\n",
    "        logging.info(\"Saving and logging the model...\")\n",
    "        joblib.dump(model, \"models/model_1.pkl\")\n",
    "        mlflow.log_artifact(\"models/model_1.pkl\")\n",
    "\n",
    "\n",
    "        end_time = time.time()\n",
    "        logging.info(f\"Model training and logging completed in {end_time - start_time:.2f} seconds.\")\n",
    "        logging.info(f\"Accuracy: {accuracy}\")\n",
    "        logging.info(f\"Precision: {precision}\")\n",
    "        logging.info(f\"Recall: {recall}\")\n",
    "        logging.info(f\"F1 Score: {f1}\")\n",
    "\n",
    "\n",
    "\n",
    "    except Exception as e:\n",
    "        logging.info(f\"Error in Model Training {e}\")"
   ]
  },
  {
   "cell_type": "code",
   "execution_count": null,
   "id": "aed6b2ba",
   "metadata": {},
   "outputs": [],
   "source": []
  }
 ],
 "metadata": {
  "kernelspec": {
   "display_name": ".venv",
   "language": "python",
   "name": "python3"
  },
  "language_info": {
   "codemirror_mode": {
    "name": "ipython",
    "version": 3
   },
   "file_extension": ".py",
   "mimetype": "text/x-python",
   "name": "python",
   "nbconvert_exporter": "python",
   "pygments_lexer": "ipython3",
   "version": "3.10.18"
  }
 },
 "nbformat": 4,
 "nbformat_minor": 5
}

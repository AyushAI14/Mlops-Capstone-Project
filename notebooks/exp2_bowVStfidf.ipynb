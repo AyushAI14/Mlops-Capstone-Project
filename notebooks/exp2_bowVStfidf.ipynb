{
 "cells": [
  {
   "cell_type": "code",
   "execution_count": null,
   "id": "764755e1",
   "metadata": {},
   "outputs": [],
   "source": [
    "cd .."
   ]
  },
  {
   "cell_type": "code",
   "execution_count": null,
   "id": "c625a66f",
   "metadata": {},
   "outputs": [],
   "source": [
    "import pandas as pd\n",
    "pd.set_option('future.no_silent_downcasting', True)\n",
    "import logging\n",
    "\n",
    "import numpy as np\n",
    "import mlflow\n",
    "import dagshub\n",
    "from sklearn.feature_extraction.text import CountVectorizer, TfidfVectorizer\n",
    "from sklearn.model_selection import train_test_split\n",
    "from sklearn.linear_model import LogisticRegression\n",
    "from sklearn.naive_bayes import MultinomialNB\n",
    "from xgboost import XGBClassifier\n",
    "from sklearn.ensemble import RandomForestClassifier, GradientBoostingClassifier\n",
    "from sklearn.metrics import accuracy_score, precision_score, recall_score, f1_score\n",
    "from text_prettifier import TextPrettifier\n",
    "import joblib\n",
    "\n",
    "import warnings\n",
    "warnings.simplefilter(\"ignore\", UserWarning)\n",
    "warnings.filterwarnings(\"ignore\")"
   ]
  },
  {
   "cell_type": "code",
   "execution_count": null,
   "id": "9dca29e1",
   "metadata": {},
   "outputs": [],
   "source": [
    "logging.basicConfig(level=logging.INFO,format=\"%(asctime)s - %(levelname)s -  %(message)s\")\n",
    "config={\n",
    "    'data_path':'notebooks/IMDB.csv',\n",
    "    'test_size':0.2\n",
    "    \n",
    "}"
   ]
  },
  {
   "cell_type": "code",
   "execution_count": 37,
   "id": "065ca425",
   "metadata": {},
   "outputs": [],
   "source": [
    "prettifier = TextPrettifier()\n",
    "\n",
    "def text_cleaner(text):\n",
    "    text = text.lower()\n",
    "    text = prettifier.remove_contractions(text)\n",
    "    text = prettifier.remove_emojis(text)\n",
    "    text = prettifier.remove_html_tags(text)\n",
    "    text = prettifier.remove_urls(text)\n",
    "    text = prettifier.remove_special_chars(text)\n",
    "    text = prettifier.remove_stopwords(text)\n",
    "    text = prettifier.remove_numbers(text)\n",
    "    return text"
   ]
  },
  {
   "cell_type": "code",
   "execution_count": 38,
   "id": "8409abc2",
   "metadata": {},
   "outputs": [],
   "source": [
    "def load_and_transformation(filepath:str):\n",
    "    try:\n",
    "        logging.info(\"loaded the file\")\n",
    "        df = pd.read_csv(filepath)\n",
    "        logging.info(\"cleaning the reviews in data\")\n",
    "        df['review'] = df['review'].apply(text_cleaner)\n",
    "        logging.info(\"mapping sentiment to 1 and 0\")\n",
    "        df['sentiment'] = df['sentiment'].map({'negative':0,'positive':1})\n",
    "        return df\n",
    "    except Exception as e:\n",
    "        logging.info(f'Error while transformaing the df {e}')"
   ]
  },
  {
   "cell_type": "code",
   "execution_count": 39,
   "id": "060bdf43",
   "metadata": {},
   "outputs": [
    {
     "name": "stderr",
     "output_type": "stream",
     "text": [
      "2025-07-09 07:43:02,879 - INFO -  loaded the file\n",
      "2025-07-09 07:43:02,898 - INFO -  cleaning the reviews in data\n",
      "2025-07-09 07:43:04,691 - INFO -  mapping sentiment to 1 and 0\n"
     ]
    }
   ],
   "source": [
    "df = load_and_transformation(config['data_path'])"
   ]
  },
  {
   "cell_type": "code",
   "execution_count": 40,
   "id": "5848bad1",
   "metadata": {},
   "outputs": [
    {
     "name": "stderr",
     "output_type": "stream",
     "text": [
      "2025-07-09 07:43:05,524 - INFO -  HTTP Request: GET https://dagshub.com/api/v1/repos/AyushAI14/Mlops-Capstone-Project \"HTTP/1.1 200 OK\"\n"
     ]
    },
    {
     "data": {
      "text/html": [
       "<pre style=\"white-space:pre;overflow-x:auto;line-height:normal;font-family:Menlo,'DejaVu Sans Mono',consolas,'Courier New',monospace\">Initialized MLflow to track repo <span style=\"color: #008000; text-decoration-color: #008000\">\"AyushAI14/Mlops-Capstone-Project\"</span>\n",
       "</pre>\n"
      ],
      "text/plain": [
       "Initialized MLflow to track repo \u001b[32m\"AyushAI14/Mlops-Capstone-Project\"\u001b[0m\n"
      ]
     },
     "metadata": {},
     "output_type": "display_data"
    },
    {
     "name": "stderr",
     "output_type": "stream",
     "text": [
      "2025-07-09 07:43:05,538 - INFO -  Initialized MLflow to track repo \"AyushAI14/Mlops-Capstone-Project\"\n"
     ]
    },
    {
     "data": {
      "text/html": [
       "<pre style=\"white-space:pre;overflow-x:auto;line-height:normal;font-family:Menlo,'DejaVu Sans Mono',consolas,'Courier New',monospace\">Repository AyushAI14/Mlops-Capstone-Project initialized!\n",
       "</pre>\n"
      ],
      "text/plain": [
       "Repository AyushAI14/Mlops-Capstone-Project initialized!\n"
      ]
     },
     "metadata": {},
     "output_type": "display_data"
    },
    {
     "name": "stderr",
     "output_type": "stream",
     "text": [
      "2025-07-09 07:43:05,544 - INFO -  Repository AyushAI14/Mlops-Capstone-Project initialized!\n"
     ]
    },
    {
     "data": {
      "text/plain": [
       "<Experiment: artifact_location='mlflow-artifacts:/69745e1a3e134795a8b205d80021c5cc', creation_time=1752026929556, experiment_id='1', last_update_time=1752026929556, lifecycle_stage='active', name='bow vs tfidf', tags={}>"
      ]
     },
     "execution_count": 40,
     "metadata": {},
     "output_type": "execute_result"
    }
   ],
   "source": [
    "mlflow.set_tracking_uri('https://dagshub.com/AyushAI14/Mlops-Capstone-Project.mlflow')\n",
    "dagshub.init(repo_owner='AyushAI14', repo_name='Mlops-Capstone-Project', mlflow=True)\n",
    "\n",
    "mlflow.set_experiment('bow vs tfidf')\n"
   ]
  },
  {
   "cell_type": "code",
   "execution_count": 41,
   "id": "bb2008b0",
   "metadata": {},
   "outputs": [],
   "source": [
    "VECTORIZERS = {\n",
    "    'BoW': CountVectorizer(),\n",
    "    'TF-IDF': TfidfVectorizer()\n",
    "}\n",
    "\n",
    "ALGORITHMS = {\n",
    "    'LogisticRegression': LogisticRegression(),\n",
    "    'MultinomialNB': MultinomialNB(),\n",
    "    'XGBoost': XGBClassifier(),\n",
    "    'RandomForest': RandomForestClassifier(),\n",
    "    'GradientBoosting': GradientBoostingClassifier()\n",
    "}"
   ]
  },
  {
   "cell_type": "code",
   "execution_count": 42,
   "id": "d64b0ff7",
   "metadata": {},
   "outputs": [],
   "source": [
    "def log_model_params(algo_name, model):\n",
    "    \"\"\"Logs hyperparameters of the trained model to MLflow.\"\"\"\n",
    "    params_to_log = {}\n",
    "    if algo_name == 'LogisticRegression':\n",
    "        params_to_log[\"C\"] = model.C\n",
    "    elif algo_name == 'MultinomialNB':\n",
    "        params_to_log[\"alpha\"] = model.alpha\n",
    "    elif algo_name == 'XGBoost':\n",
    "        params_to_log[\"n_estimators\"] = model.n_estimators\n",
    "        params_to_log[\"learning_rate\"] = model.learning_rate\n",
    "    elif algo_name == 'RandomForest':\n",
    "        params_to_log[\"n_estimators\"] = model.n_estimators\n",
    "        params_to_log[\"max_depth\"] = model.max_depth\n",
    "    elif algo_name == 'GradientBoosting':\n",
    "        params_to_log[\"n_estimators\"] = model.n_estimators\n",
    "        params_to_log[\"learning_rate\"] = model.learning_rate\n",
    "        params_to_log[\"max_depth\"] = model.max_depth\n",
    "\n",
    "    mlflow.log_params(params_to_log)"
   ]
  },
  {
   "cell_type": "code",
   "execution_count": null,
   "id": "c515050b",
   "metadata": {},
   "outputs": [],
   "source": [
    "def train_test(df):\n",
    "    with mlflow.start_run(run_name='ALL EXPERIMENT') as parent:\n",
    "        for vector_name,vector_value in VECTORIZERS.items():\n",
    "            for algo_name,algo_value in ALGORITHMS.items():\n",
    "                with mlflow.start_run(run_name=f\"{algo_name} with {vector_name}\", nested=True) as child:\n",
    "                    try:\n",
    "                        logging.info('dataset splitting in test and train')\n",
    "                        x = vector_value.fit_transform(df['review'])\n",
    "                        y = df['sentiment']\n",
    "                        x_train,x_test,y_train,y_test=train_test_split(x,y,test_size=config[\"test_size\"],random_state=44)\n",
    "                        mlflow.log_params({\n",
    "                                \"vectorizer\": vector_name,\n",
    "                                \"algorithm\": algo_name,\n",
    "                                \"test_size\": config[\"test_size\"]\n",
    "                            })\n",
    "                        \n",
    "                        logging.info('model fitting starts')\n",
    "                        algo_value.fit(x_train,y_train)\n",
    "                        log_model_params(algo_name, algo_value)\n",
    "\n",
    "                        logging.info('Evaluating the model')\n",
    "                        y_pred = algo_value.predict(x_test)\n",
    "                        metrics = {\n",
    "                                \"accuracy\": accuracy_score(y_test, y_pred),\n",
    "                                \"precision\": precision_score(y_test, y_pred),\n",
    "                                \"recall\": recall_score(y_test, y_pred),\n",
    "                                \"f1_score\": f1_score(y_test, y_pred)\n",
    "                            }\n",
    "                        logging.info(\"Saving and logging the model and metrics...\")\n",
    "                        model_path = f\"models/{algo_name}_{vector_name}_model.pkl\"\n",
    "                        joblib.dump(algo_value, model_path)\n",
    "                        mlflow.log_artifact(model_path)\n",
    "\n",
    "                        mlflow.log_metrics(metrics)\n",
    "                        print(f\"\\nAlgorithm: {algo_name}, Vectorizer: {vector_name}\")\n",
    "                        print(f\"Metrics: {metrics}\")\n",
    "                    except Exception as e:\n",
    "                        logging.info(f'error while training {e}')\n",
    "                        \n"
   ]
  },
  {
   "cell_type": "code",
   "execution_count": 44,
   "id": "414502db",
   "metadata": {},
   "outputs": [
    {
     "name": "stderr",
     "output_type": "stream",
     "text": [
      "2025-07-09 07:43:07,533 - INFO -  dataset splitting in test and train\n",
      "2025-07-09 07:43:08,126 - INFO -  model fitting starts\n",
      "2025-07-09 07:43:10,952 - INFO -  Evaluating the model\n",
      "2025-07-09 07:43:11,007 - INFO -  Saving and logging the model and metrics...\n"
     ]
    },
    {
     "name": "stdout",
     "output_type": "stream",
     "text": [
      "\n",
      "Algorithm: LogisticRegression, Vectorizer: BoW\n",
      "Metrics: {'accuracy': 0.775, 'precision': 0.7252747252747253, 'recall': 0.7674418604651163, 'f1_score': 0.7457627118644068}\n",
      "🏃 View run LogisticRegression with BoW at: https://dagshub.com/AyushAI14/Mlops-Capstone-Project.mlflow/#/experiments/1/runs/3b2235fd9f1c4274a4687cfee7927868\n",
      "🧪 View experiment at: https://dagshub.com/AyushAI14/Mlops-Capstone-Project.mlflow/#/experiments/1\n"
     ]
    },
    {
     "name": "stderr",
     "output_type": "stream",
     "text": [
      "2025-07-09 07:43:16,889 - INFO -  dataset splitting in test and train\n",
      "2025-07-09 07:43:18,316 - INFO -  model fitting starts\n",
      "2025-07-09 07:43:18,828 - INFO -  Evaluating the model\n",
      "2025-07-09 07:43:18,848 - INFO -  Saving and logging the model and metrics...\n"
     ]
    },
    {
     "name": "stdout",
     "output_type": "stream",
     "text": [
      "\n",
      "Algorithm: MultinomialNB, Vectorizer: BoW\n",
      "Metrics: {'accuracy': 0.785, 'precision': 0.7792207792207793, 'recall': 0.6976744186046512, 'f1_score': 0.7361963190184049}\n",
      "🏃 View run MultinomialNB with BoW at: https://dagshub.com/AyushAI14/Mlops-Capstone-Project.mlflow/#/experiments/1/runs/b1af99c543a045cea68fc313c169bdf1\n",
      "🧪 View experiment at: https://dagshub.com/AyushAI14/Mlops-Capstone-Project.mlflow/#/experiments/1\n"
     ]
    },
    {
     "name": "stderr",
     "output_type": "stream",
     "text": [
      "2025-07-09 07:43:25,780 - INFO -  dataset splitting in test and train\n",
      "2025-07-09 07:43:27,231 - INFO -  model fitting starts\n",
      "2025-07-09 07:43:29,069 - INFO -  Evaluating the model\n",
      "2025-07-09 07:43:29,092 - INFO -  Saving and logging the model and metrics...\n"
     ]
    },
    {
     "name": "stdout",
     "output_type": "stream",
     "text": [
      "\n",
      "Algorithm: XGBoost, Vectorizer: BoW\n",
      "Metrics: {'accuracy': 0.73, 'precision': 0.6739130434782609, 'recall': 0.7209302325581395, 'f1_score': 0.6966292134831461}\n",
      "🏃 View run XGBoost with BoW at: https://dagshub.com/AyushAI14/Mlops-Capstone-Project.mlflow/#/experiments/1/runs/dc96154a7a6b4fc6ad5008121ddc08c3\n",
      "🧪 View experiment at: https://dagshub.com/AyushAI14/Mlops-Capstone-Project.mlflow/#/experiments/1\n"
     ]
    },
    {
     "name": "stderr",
     "output_type": "stream",
     "text": [
      "2025-07-09 07:43:36,550 - INFO -  dataset splitting in test and train\n",
      "2025-07-09 07:43:37,470 - INFO -  model fitting starts\n",
      "2025-07-09 07:43:39,417 - INFO -  Evaluating the model\n",
      "2025-07-09 07:43:39,460 - INFO -  Saving and logging the model and metrics...\n"
     ]
    },
    {
     "name": "stdout",
     "output_type": "stream",
     "text": [
      "\n",
      "Algorithm: RandomForest, Vectorizer: BoW\n",
      "Metrics: {'accuracy': 0.755, 'precision': 0.7032967032967034, 'recall': 0.7441860465116279, 'f1_score': 0.7231638418079096}\n",
      "🏃 View run RandomForest with BoW at: https://dagshub.com/AyushAI14/Mlops-Capstone-Project.mlflow/#/experiments/1/runs/e9bce8c18e7941d49fb589d7b30937de\n",
      "🧪 View experiment at: https://dagshub.com/AyushAI14/Mlops-Capstone-Project.mlflow/#/experiments/1\n"
     ]
    },
    {
     "name": "stderr",
     "output_type": "stream",
     "text": [
      "2025-07-09 07:43:49,031 - INFO -  dataset splitting in test and train\n",
      "2025-07-09 07:43:50,271 - INFO -  model fitting starts\n",
      "2025-07-09 07:43:55,082 - INFO -  Evaluating the model\n",
      "2025-07-09 07:43:55,109 - INFO -  Saving and logging the model and metrics...\n"
     ]
    },
    {
     "name": "stdout",
     "output_type": "stream",
     "text": [
      "\n",
      "Algorithm: GradientBoosting, Vectorizer: BoW\n",
      "Metrics: {'accuracy': 0.805, 'precision': 0.7373737373737373, 'recall': 0.8488372093023255, 'f1_score': 0.7891891891891892}\n",
      "🏃 View run GradientBoosting with BoW at: https://dagshub.com/AyushAI14/Mlops-Capstone-Project.mlflow/#/experiments/1/runs/093d41522ddb450c8698c3fd46c7198a\n",
      "🧪 View experiment at: https://dagshub.com/AyushAI14/Mlops-Capstone-Project.mlflow/#/experiments/1\n"
     ]
    },
    {
     "name": "stderr",
     "output_type": "stream",
     "text": [
      "2025-07-09 07:44:00,865 - INFO -  dataset splitting in test and train\n",
      "2025-07-09 07:44:01,534 - INFO -  model fitting starts\n",
      "2025-07-09 07:44:03,884 - INFO -  Evaluating the model\n",
      "2025-07-09 07:44:03,917 - INFO -  Saving and logging the model and metrics...\n"
     ]
    },
    {
     "name": "stdout",
     "output_type": "stream",
     "text": [
      "\n",
      "Algorithm: LogisticRegression, Vectorizer: TF-IDF\n",
      "Metrics: {'accuracy': 0.765, 'precision': 0.7096774193548387, 'recall': 0.7674418604651163, 'f1_score': 0.7374301675977654}\n",
      "🏃 View run LogisticRegression with TF-IDF at: https://dagshub.com/AyushAI14/Mlops-Capstone-Project.mlflow/#/experiments/1/runs/fff670ca7d864c0f8c6d6c26677d4809\n",
      "🧪 View experiment at: https://dagshub.com/AyushAI14/Mlops-Capstone-Project.mlflow/#/experiments/1\n"
     ]
    },
    {
     "name": "stderr",
     "output_type": "stream",
     "text": [
      "2025-07-09 07:44:10,126 - INFO -  dataset splitting in test and train\n",
      "2025-07-09 07:44:10,676 - INFO -  model fitting starts\n",
      "2025-07-09 07:44:11,570 - INFO -  Evaluating the model\n",
      "2025-07-09 07:44:11,597 - INFO -  Saving and logging the model and metrics...\n"
     ]
    },
    {
     "name": "stdout",
     "output_type": "stream",
     "text": [
      "\n",
      "Algorithm: MultinomialNB, Vectorizer: TF-IDF\n",
      "Metrics: {'accuracy': 0.765, 'precision': 0.7910447761194029, 'recall': 0.6162790697674418, 'f1_score': 0.6928104575163399}\n",
      "🏃 View run MultinomialNB with TF-IDF at: https://dagshub.com/AyushAI14/Mlops-Capstone-Project.mlflow/#/experiments/1/runs/cc750f6fbd754d94aa789c8522f806fe\n",
      "🧪 View experiment at: https://dagshub.com/AyushAI14/Mlops-Capstone-Project.mlflow/#/experiments/1\n"
     ]
    },
    {
     "name": "stderr",
     "output_type": "stream",
     "text": [
      "2025-07-09 07:44:18,021 - INFO -  dataset splitting in test and train\n",
      "2025-07-09 07:44:19,245 - INFO -  model fitting starts\n",
      "2025-07-09 07:44:23,652 - INFO -  Evaluating the model\n",
      "2025-07-09 07:44:23,674 - INFO -  Saving and logging the model and metrics...\n"
     ]
    },
    {
     "name": "stdout",
     "output_type": "stream",
     "text": [
      "\n",
      "Algorithm: XGBoost, Vectorizer: TF-IDF\n",
      "Metrics: {'accuracy': 0.745, 'precision': 0.6923076923076923, 'recall': 0.7325581395348837, 'f1_score': 0.711864406779661}\n",
      "🏃 View run XGBoost with TF-IDF at: https://dagshub.com/AyushAI14/Mlops-Capstone-Project.mlflow/#/experiments/1/runs/292865b850a246ed823c8c71d36642e0\n",
      "🧪 View experiment at: https://dagshub.com/AyushAI14/Mlops-Capstone-Project.mlflow/#/experiments/1\n"
     ]
    },
    {
     "name": "stderr",
     "output_type": "stream",
     "text": [
      "2025-07-09 07:44:29,600 - INFO -  dataset splitting in test and train\n",
      "2025-07-09 07:44:30,197 - INFO -  model fitting starts\n",
      "2025-07-09 07:44:32,050 - INFO -  Evaluating the model\n",
      "2025-07-09 07:44:32,083 - INFO -  Saving and logging the model and metrics...\n"
     ]
    },
    {
     "name": "stdout",
     "output_type": "stream",
     "text": [
      "\n",
      "Algorithm: RandomForest, Vectorizer: TF-IDF\n",
      "Metrics: {'accuracy': 0.745, 'precision': 0.6923076923076923, 'recall': 0.7325581395348837, 'f1_score': 0.711864406779661}\n",
      "🏃 View run RandomForest with TF-IDF at: https://dagshub.com/AyushAI14/Mlops-Capstone-Project.mlflow/#/experiments/1/runs/0c4e1c61b1004f3296da70a3b2f49448\n",
      "🧪 View experiment at: https://dagshub.com/AyushAI14/Mlops-Capstone-Project.mlflow/#/experiments/1\n"
     ]
    },
    {
     "name": "stderr",
     "output_type": "stream",
     "text": [
      "2025-07-09 07:44:42,599 - INFO -  dataset splitting in test and train\n",
      "2025-07-09 07:44:43,624 - INFO -  model fitting starts\n",
      "2025-07-09 07:44:50,792 - INFO -  Evaluating the model\n",
      "2025-07-09 07:44:50,815 - INFO -  Saving and logging the model and metrics...\n"
     ]
    },
    {
     "name": "stdout",
     "output_type": "stream",
     "text": [
      "\n",
      "Algorithm: GradientBoosting, Vectorizer: TF-IDF\n",
      "Metrics: {'accuracy': 0.765, 'precision': 0.7010309278350515, 'recall': 0.7906976744186046, 'f1_score': 0.7431693989071039}\n",
      "🏃 View run GradientBoosting with TF-IDF at: https://dagshub.com/AyushAI14/Mlops-Capstone-Project.mlflow/#/experiments/1/runs/e275cae060fd4303b35961c24395f70b\n",
      "🧪 View experiment at: https://dagshub.com/AyushAI14/Mlops-Capstone-Project.mlflow/#/experiments/1\n",
      "🏃 View run ALL EXPERIMENT at: https://dagshub.com/AyushAI14/Mlops-Capstone-Project.mlflow/#/experiments/1/runs/821db3e2cf4e4a96bb4f6eff3c34a1db\n",
      "🧪 View experiment at: https://dagshub.com/AyushAI14/Mlops-Capstone-Project.mlflow/#/experiments/1\n"
     ]
    }
   ],
   "source": [
    "train_test(df)"
   ]
  },
  {
   "cell_type": "code",
   "execution_count": null,
   "id": "c7d12a48",
   "metadata": {},
   "outputs": [],
   "source": []
  }
 ],
 "metadata": {
  "kernelspec": {
   "display_name": ".venv",
   "language": "python",
   "name": "python3"
  },
  "language_info": {
   "codemirror_mode": {
    "name": "ipython",
    "version": 3
   },
   "file_extension": ".py",
   "mimetype": "text/x-python",
   "name": "python",
   "nbconvert_exporter": "python",
   "pygments_lexer": "ipython3",
   "version": "3.10.18"
  }
 },
 "nbformat": 4,
 "nbformat_minor": 5
}
